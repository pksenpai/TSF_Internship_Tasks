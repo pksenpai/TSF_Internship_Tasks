{
  "nbformat": 4,
  "nbformat_minor": 0,
  "metadata": {
    "colab": {
      "name": "TSF-TASK1.ipynb",
      "provenance": []
    },
    "kernelspec": {
      "name": "python3",
      "display_name": "Python 3"
    }
  },
  "cells": [
    {
      "cell_type": "markdown",
      "metadata": {
        "id": "umLB8ZKWWXP5"
      },
      "source": [
        "**PREDICTING THE PERCENTAGE OF STUDENTS BASED ON THE NUMBER OF STUDY HOURS USING LINEAR REGRESSION**"
      ]
    },
    {
      "cell_type": "markdown",
      "metadata": {
        "id": "9SeTBimlXeyI"
      },
      "source": [
        "Let's start by importing all the libraries we'll need for this"
      ]
    },
    {
      "cell_type": "code",
      "metadata": {
        "id": "TEtlp914WYgy"
      },
      "source": [
        "import numpy as np \n",
        "import pandas as pd \n",
        "import os\n",
        "import matplotlib.pyplot as plt\n",
        "import seaborn as sns"
      ],
      "execution_count": 1,
      "outputs": []
    },
    {
      "cell_type": "code",
      "metadata": {
        "colab": {
          "base_uri": "https://localhost:8080/",
          "height": 269
        },
        "id": "gEtTBK5dXc9c",
        "outputId": "136f4d22-7dff-44a3-b43d-6f4cc40275fd"
      },
      "source": [
        "#Let's read the data(csv file) using pandas\n",
        "my_data = pd.read_csv('/content/student_scores - student_scores.csv')\n",
        "my_data.head(7)  ## checking the first 7 inputs"
      ],
      "execution_count": 2,
      "outputs": [
        {
          "output_type": "execute_result",
          "data": {
            "text/html": [
              "<div>\n",
              "<style scoped>\n",
              "    .dataframe tbody tr th:only-of-type {\n",
              "        vertical-align: middle;\n",
              "    }\n",
              "\n",
              "    .dataframe tbody tr th {\n",
              "        vertical-align: top;\n",
              "    }\n",
              "\n",
              "    .dataframe thead th {\n",
              "        text-align: right;\n",
              "    }\n",
              "</style>\n",
              "<table border=\"1\" class=\"dataframe\">\n",
              "  <thead>\n",
              "    <tr style=\"text-align: right;\">\n",
              "      <th></th>\n",
              "      <th>Hours</th>\n",
              "      <th>Scores</th>\n",
              "    </tr>\n",
              "  </thead>\n",
              "  <tbody>\n",
              "    <tr>\n",
              "      <th>0</th>\n",
              "      <td>2.5</td>\n",
              "      <td>21</td>\n",
              "    </tr>\n",
              "    <tr>\n",
              "      <th>1</th>\n",
              "      <td>5.1</td>\n",
              "      <td>47</td>\n",
              "    </tr>\n",
              "    <tr>\n",
              "      <th>2</th>\n",
              "      <td>3.2</td>\n",
              "      <td>27</td>\n",
              "    </tr>\n",
              "    <tr>\n",
              "      <th>3</th>\n",
              "      <td>8.5</td>\n",
              "      <td>75</td>\n",
              "    </tr>\n",
              "    <tr>\n",
              "      <th>4</th>\n",
              "      <td>3.5</td>\n",
              "      <td>30</td>\n",
              "    </tr>\n",
              "    <tr>\n",
              "      <th>5</th>\n",
              "      <td>1.5</td>\n",
              "      <td>20</td>\n",
              "    </tr>\n",
              "    <tr>\n",
              "      <th>6</th>\n",
              "      <td>9.2</td>\n",
              "      <td>88</td>\n",
              "    </tr>\n",
              "  </tbody>\n",
              "</table>\n",
              "</div>"
            ],
            "text/plain": [
              "   Hours  Scores\n",
              "0    2.5      21\n",
              "1    5.1      47\n",
              "2    3.2      27\n",
              "3    8.5      75\n",
              "4    3.5      30\n",
              "5    1.5      20\n",
              "6    9.2      88"
            ]
          },
          "metadata": {
            "tags": []
          },
          "execution_count": 2
        }
      ]
    },
    {
      "cell_type": "markdown",
      "metadata": {
        "id": "0h484AOqYz1H"
      },
      "source": [
        "Let's try plotting this data distribution using matplotlib, we might see a pattern"
      ]
    },
    {
      "cell_type": "code",
      "metadata": {
        "colab": {
          "base_uri": "https://localhost:8080/",
          "height": 295
        },
        "id": "s3ClzOMQYWFR",
        "outputId": "afcb12cc-e3c1-40b1-f08b-bda2fa0fdba5"
      },
      "source": [
        "my_data.plot(x='Hours', y='Scores', style='x')  \n",
        "plt.title('Hours vs Percentage')  \n",
        "plt.xlabel('Hours')  \n",
        "plt.ylabel('Percentage')  \n",
        "plt.show()"
      ],
      "execution_count": 3,
      "outputs": [
        {
          "output_type": "display_data",
          "data": {
            "image/png": "[encoded data removed]",
            "text/plain": [
              "<Figure size 432x288 with 1 Axes>"
            ]
          },
          "metadata": {
            "tags": [],
            "needs_background": "light"
          }
        }
      ]
    },
    {
      "cell_type": "code",
      "metadata": {
        "colab": {
          "base_uri": "https://localhost:8080/"
        },
        "id": "0nVLGxGEbgLi",
        "outputId": "e086d29a-782e-4645-992d-fd595aaf1d1a"
      },
      "source": [
        "print(my_data.loc[my_data['Hours']==9.2])"
      ],
      "execution_count": 4,
      "outputs": [
        {
          "output_type": "stream",
          "text": [
            "   Hours  Scores\n",
            "6    9.2      88\n"
          ],
          "name": "stdout"
        }
      ]
    },
    {
      "cell_type": "markdown",
      "metadata": {
        "id": "EJure1RsZjbZ"
      },
      "source": [
        "Before we prepare the data let's try to visualize this data differently"
      ]
    },
    {
      "cell_type": "code",
      "metadata": {
        "colab": {
          "base_uri": "https://localhost:8080/",
          "height": 242
        },
        "id": "yVZWOxoJaxJ6",
        "outputId": "4d64d2e4-f2fd-438c-9faf-cfd3448c73b2"
      },
      "source": [
        "plt.figure(figsize=(7,3))\n",
        "sns.heatmap(my_data[['Scores','Hours']].corr(), annot = True)\n",
        "plt.title('.', fontsize = 10)\n",
        "print('The relation Matrix')\n",
        "plt.show()\n"
      ],
      "execution_count": 5,
      "outputs": [
        {
          "output_type": "stream",
          "text": [
            "The relation Matrix\n"
          ],
          "name": "stdout"
        },
        {
          "output_type": "display_data",
          "data": {
            "image/png": "[encoded data removed]",
            "text/plain": [
              "<Figure size 504x216 with 2 Axes>"
            ]
          },
          "metadata": {
            "tags": [],
            "needs_background": "light"
          }
        }
      ]
    },
    {
      "cell_type": "code",
      "metadata": {
        "colab": {
          "base_uri": "https://localhost:8080/",
          "height": 294
        },
        "id": "Xp04I6SjZ__k",
        "outputId": "ebbc6c30-708a-4203-eb42-342648716007"
      },
      "source": [
        "plt.figure(figsize=(7,3))\n",
        "sns.lineplot(my_data['Hours'],my_data['Scores'], palette = \"Set3\")\n",
        "plt.title('Scores VS Hours', fontsize = 10)\n",
        "plt.show()"
      ],
      "execution_count": 6,
      "outputs": [
        {
          "output_type": "stream",
          "text": [
            "/usr/local/lib/python3.6/dist-packages/seaborn/_decorators.py:43: FutureWarning: Pass the following variables as keyword args: x, y. From version 0.12, the only valid positional argument will be `data`, and passing other arguments without an explicit keyword will result in an error or misinterpretation.\n",
            "  FutureWarning\n"
          ],
          "name": "stderr"
        },
        {
          "output_type": "display_data",
          "data": {
            "image/png": "[encoded data removed]",
            "text/plain": [
              "<Figure size 504x216 with 1 Axes>"
            ]
          },
          "metadata": {
            "tags": [],
            "needs_background": "light"
          }
        }
      ]
    },
    {
      "cell_type": "markdown",
      "metadata": {
        "id": "eAgila1mbUaY"
      },
      "source": [
        "This is much easier to understand"
      ]
    },
    {
      "cell_type": "code",
      "metadata": {
        "colab": {
          "base_uri": "https://localhost:8080/",
          "height": 242
        },
        "id": "RrZwQjprZp5l",
        "outputId": "b2a513fb-5b38-443d-b23a-880028872c8a"
      },
      "source": [
        "plt.style.use('Solarize_Light2') \n",
        "plt.figure(figsize = (7,3))\n",
        "my_data['Scores'].head(7).plot.bar(color = 'red')\n",
        "plt.title('Scores VS Hours')\n",
        "plt.xlabel('Hours')\n",
        "plt.ylabel('Scores')\n",
        "plt.show()\n"
      ],
      "execution_count": 7,
      "outputs": [
        {
          "output_type": "display_data",
          "data": {
            "image/png": "[encoded data removed]",
            "text/plain": [
              "<Figure size 504x216 with 1 Axes>"
            ]
          },
          "metadata": {
            "tags": []
          }
        }
      ]
    },
    {
      "cell_type": "markdown",
      "metadata": {
        "id": "P_6YjdKvcGcx"
      },
      "source": [
        "Now let's import all the libraries we'll need for preparing the data and training the model"
      ]
    },
    {
      "cell_type": "code",
      "metadata": {
        "id": "ESFXrOp5cOdH"
      },
      "source": [
        "from sklearn.linear_model import LinearRegression\n",
        "from sklearn.model_selection import train_test_split\n",
        "from sklearn.preprocessing import StandardScaler\n",
        "\n"
      ],
      "execution_count": 8,
      "outputs": []
    },
    {
      "cell_type": "code",
      "metadata": {
        "id": "sPH2_uzNcS84"
      },
      "source": [
        "#let's split the data into x and y\n",
        "X = my_data.iloc[:, :-1].values  \n",
        "y = my_data.iloc[:, 1].values"
      ],
      "execution_count": 9,
      "outputs": []
    },
    {
      "cell_type": "code",
      "metadata": {
        "id": "i6p2Sm4Ocgje"
      },
      "source": [
        "#defining training and testing sets ## we'll let the test size be equal to 0.1\n",
        "X_train,X_test,y_train,y_test = train_test_split(X,y,test_size = 0.1,random_state = 69)"
      ],
      "execution_count": 10,
      "outputs": []
    },
    {
      "cell_type": "markdown",
      "metadata": {
        "id": "NOiBYSNBc7Kx"
      },
      "source": [
        "Let's begin the training"
      ]
    },
    {
      "cell_type": "code",
      "metadata": {
        "id": "F5Z_7nzoc9Ei"
      },
      "source": [
        "algo  = LinearRegression() ##setting the algorithm to linear regression\n",
        "algo.fit(X_train,y_train)\n",
        "pred = algo.predict(X_test)"
      ],
      "execution_count": 11,
      "outputs": []
    },
    {
      "cell_type": "code",
      "metadata": {
        "colab": {
          "base_uri": "https://localhost:8080/",
          "height": 246
        },
        "id": "hjBkZ-bmdNb5",
        "outputId": "e9d48623-e551-400a-fe37-3c663db3c597"
      },
      "source": [
        "plt.figure(figsize=(7,3))\n",
        "reg = algo.coef_*X+algo.intercept_\n",
        "plt.scatter(X, y)\n",
        "plt.plot(X, reg)\n",
        "plt.xlabel('Hours')\n",
        "plt.ylabel('Scores')\n",
        "plt.title(\"The Prediction\")\n",
        "plt.show()\n",
        "\n"
      ],
      "execution_count": 12,
      "outputs": [
        {
          "output_type": "display_data",
          "data": {
            "image/png": "[encoded data removed]",
            "text/plain": [
              "<Figure size 504x216 with 1 Axes>"
            ]
          },
          "metadata": {
            "tags": []
          }
        }
      ]
    },
    {
      "cell_type": "code",
      "metadata": {
        "colab": {
          "base_uri": "https://localhost:8080/"
        },
        "id": "3mIvP-Akd0Uf",
        "outputId": "c118a774-a78e-4954-f250-a985fce1ec0c"
      },
      "source": [
        "#let's check out the mean absolute error and max error of this model\n",
        "from sklearn.metrics import max_error, mean_absolute_error\n",
        "print('The Maximum Error: '+str(max_error(y_test, pred)))\n",
        "print('Mean Absolute Error : '+str(mean_absolute_error(y_test, pred)))"
      ],
      "execution_count": 13,
      "outputs": [
        {
          "output_type": "stream",
          "text": [
            "The Maximum Error: 6.0098818663363005\n",
            "Mean Absolute Error : 4.773328390774336\n"
          ],
          "name": "stdout"
        }
      ]
    },
    {
      "cell_type": "code",
      "metadata": {
        "colab": {
          "base_uri": "https://localhost:8080/",
          "height": 143
        },
        "id": "7u8N9HvTgBIi",
        "outputId": "b12f1867-6ce3-49c4-89e4-f9d3f140d7c9"
      },
      "source": [
        "##just to see how close we are\n",
        "y_pred = algo.predict(X_test)\n",
        "df = pd.DataFrame({'Actual': y_test, 'Predicted': y_pred})  \n",
        "df "
      ],
      "execution_count": 14,
      "outputs": [
        {
          "output_type": "execute_result",
          "data": {
            "text/html": [
              "<div>\n",
              "<style scoped>\n",
              "    .dataframe tbody tr th:only-of-type {\n",
              "        vertical-align: middle;\n",
              "    }\n",
              "\n",
              "    .dataframe tbody tr th {\n",
              "        vertical-align: top;\n",
              "    }\n",
              "\n",
              "    .dataframe thead th {\n",
              "        text-align: right;\n",
              "    }\n",
              "</style>\n",
              "<table border=\"1\" class=\"dataframe\">\n",
              "  <thead>\n",
              "    <tr style=\"text-align: right;\">\n",
              "      <th></th>\n",
              "      <th>Actual</th>\n",
              "      <th>Predicted</th>\n",
              "    </tr>\n",
              "  </thead>\n",
              "  <tbody>\n",
              "    <tr>\n",
              "      <th>0</th>\n",
              "      <td>69</td>\n",
              "      <td>75.009882</td>\n",
              "    </tr>\n",
              "    <tr>\n",
              "      <th>1</th>\n",
              "      <td>67</td>\n",
              "      <td>62.150394</td>\n",
              "    </tr>\n",
              "    <tr>\n",
              "      <th>2</th>\n",
              "      <td>30</td>\n",
              "      <td>26.539503</td>\n",
              "    </tr>\n",
              "  </tbody>\n",
              "</table>\n",
              "</div>"
            ],
            "text/plain": [
              "   Actual  Predicted\n",
              "0      69  75.009882\n",
              "1      67  62.150394\n",
              "2      30  26.539503"
            ]
          },
          "metadata": {
            "tags": []
          },
          "execution_count": 14
        }
      ]
    },
    {
      "cell_type": "markdown",
      "metadata": {
        "id": "r6vvQ5VBfdG3"
      },
      "source": [
        "And now, let's predict for 9.25hrs/day"
      ]
    },
    {
      "cell_type": "code",
      "metadata": {
        "colab": {
          "base_uri": "https://localhost:8080/"
        },
        "id": "eU8CO_goewCV",
        "outputId": "85477123-bdb0-46d0-be70-a3695ee2ae6f"
      },
      "source": [
        "hours = 9.25\n",
        "scores = algo.predict([[hours]])\n",
        "print(\"No of Hours = {}\".format(hours))\n",
        "print(\"Predicted Score = {}\".format(scores[0]))"
      ],
      "execution_count": 15,
      "outputs": [
        {
          "output_type": "stream",
          "text": [
            "No of Hours = 9.25\n",
            "Predicted Score = 93.30992283754915\n"
          ],
          "name": "stdout"
        }
      ]
    },
    {
      "cell_type": "markdown",
      "metadata": {
        "id": "RrESJeplg2Cj"
      },
      "source": [
        "###**Result and Evaluation**\n",
        "\n",
        "With the given data we can see that, for the most part as the number of hours increased, so did the score, although some exceptions did exist, some scored high with low study hours and some scored low with high study hours, some even after studying 9+ hours.\n",
        "\n",
        "The result could be because the students might've been burnt out due to long study sessions and scored low, on the other hand some could focus better with shorter study sessions.\n",
        "\n",
        "With this I conclude my analysis of student scores based on the hours they've studied."
      ]
    }
  ]
}